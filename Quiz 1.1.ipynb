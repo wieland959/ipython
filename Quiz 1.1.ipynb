{
 "metadata": {
  "name": "",
  "signature": "sha256:fc36430486a59977ea4218dcf004dc6849418dff2844d49974f6f4a84374fd84"
 },
 "nbformat": 3,
 "nbformat_minor": 0,
 "worksheets": [
  {
   "cells": [
    {
     "cell_type": "code",
     "collapsed": false,
     "input": [
      "#Setting variables and functions\n",
      "runningcount = 0\n",
      "runningsum = 0\n",
      "def meanvalue():\n",
      "    print 'Sum (', runningsum, ') divided by count (', runningcount,') equals'\n",
      "    print 'Mean Value: ', runningsum / runningcount"
     ],
     "language": "python",
     "metadata": {},
     "outputs": [],
     "prompt_number": 5
    },
    {
     "cell_type": "code",
     "collapsed": false,
     "input": [
      "#Setting up prompt\n",
      "prompt = 'Please enter a list of numbers seperated by commas and spaces\\n'\n",
      "input = list(raw_input(prompt).split(', '))\n"
     ],
     "language": "python",
     "metadata": {},
     "outputs": [
      {
       "name": "stdout",
       "output_type": "stream",
       "stream": "stdout",
       "text": [
        "Please enter a list of numbers seperated by commas and spaces\n",
        "43, 12, 54, 65, 7676, 23, 1\n"
       ]
      }
     ],
     "prompt_number": 6
    },
    {
     "cell_type": "code",
     "collapsed": false,
     "input": [
      "#Running the numbers\n",
      "try:\n",
      "    for number in input:\n",
      "        runningcount = runningcount + 1\n",
      "        runningsum = runningsum + float(number)\n",
      "except:\n",
      "    print 'Please enter a list of numbers seperated by commas and spaces.'\n",
      "        "
     ],
     "language": "python",
     "metadata": {},
     "outputs": [],
     "prompt_number": 7
    },
    {
     "cell_type": "code",
     "collapsed": false,
     "input": [
      "#My report function\n",
      "meanvalue()"
     ],
     "language": "python",
     "metadata": {},
     "outputs": [
      {
       "output_type": "stream",
       "stream": "stdout",
       "text": [
        "Sum ( 7874.0 ) divided by count ( 7 ) equals\n",
        "Mean Value:  1124.85714286\n"
       ]
      }
     ],
     "prompt_number": 8
    }
   ],
   "metadata": {}
  }
 ]
}