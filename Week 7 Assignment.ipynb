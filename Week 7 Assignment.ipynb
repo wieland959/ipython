{
 "metadata": {
  "name": "",
  "signature": "sha256:0c6f22464c21ff7b69b95a53f27098bf6bb793fff905f926793d6ee800c62dd5"
 },
 "nbformat": 3,
 "nbformat_minor": 0,
 "worksheets": [
  {
   "cells": [
    {
     "cell_type": "code",
     "collapsed": false,
     "input": [
      "import urllib\n",
      "from bs4 import *"
     ],
     "language": "python",
     "metadata": {},
     "outputs": [],
     "prompt_number": 11
    },
    {
     "cell_type": "code",
     "collapsed": false,
     "input": [
      "url = 'http://www.wielandtech.com'\n",
      "html = urllib.urlopen(url).read()\n",
      "parcer = BeautifulSoup(html)\n"
     ],
     "language": "python",
     "metadata": {},
     "outputs": [],
     "prompt_number": 12
    },
    {
     "cell_type": "code",
     "collapsed": false,
     "input": [
      "links = soup('a')\n",
      "for link in links:\n",
      "    print link.get('href', None)"
     ],
     "language": "python",
     "metadata": {},
     "outputs": [
      {
       "output_type": "stream",
       "stream": "stdout",
       "text": [
        "/home.html\n",
        "/about.html\n",
        "/blog/\n",
        "/forum/\n",
        "http://twitter.com/wieland959\n",
        "http://youtube.com/user/wieland959\n",
        "https://plus.google.com/u/0/115537542789148847795/about\n",
        "http://www.stumbleupon.com/stumbler/Dnaleiw\n",
        "/about.html\n"
       ]
      }
     ],
     "prompt_number": 13
    },
    {
     "cell_type": "code",
     "collapsed": false,
     "input": [],
     "language": "python",
     "metadata": {},
     "outputs": []
    }
   ],
   "metadata": {}
  }
 ]
}