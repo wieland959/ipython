{
 "metadata": {
  "name": "",
  "signature": "sha256:47b4e738e0627bae765a279d05113f17551806fa01351ebb1ad5265e46b99bfa"
 },
 "nbformat": 3,
 "nbformat_minor": 0,
 "worksheets": [
  {
   "cells": [
    {
     "cell_type": "code",
     "collapsed": false,
     "input": [
      "fname = 'u.item'\n",
      "try:\n",
      "    fopen = open(fname)\n",
      "except:\n",
      "    print 'File could not be opened.'\n",
      "    exit()"
     ],
     "language": "python",
     "metadata": {},
     "outputs": [],
     "prompt_number": 10
    },
    {
     "cell_type": "code",
     "collapsed": false,
     "input": [
      "delimiter = '|'\n",
      "for line in fopen:\n",
      "    linesplice = line.split(delimiter)\n",
      "    release = linesplice[2]\n",
      "    year = release[-4:]\n",
      "    if year == '1959' :\n",
      "        title = linesplice[1]\n",
      "        print title[:-7]\n"
     ],
     "language": "python",
     "metadata": {},
     "outputs": [
      {
       "output_type": "stream",
       "stream": "stdout",
       "text": [
        "North by Northwest\n",
        "Some Like It Hot\n",
        "Ben-Hur\n",
        "Shaggy Dog, The\n"
       ]
      }
     ],
     "prompt_number": 11
    }
   ],
   "metadata": {}
  }
 ]
}
