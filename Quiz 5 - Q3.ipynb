{
 "metadata": {
  "name": "",
  "signature": "sha256:d2f827f81d654c104ef53727db5a5a4862206551bc70a7158541f6ef686a04fa"
 },
 "nbformat": 3,
 "nbformat_minor": 0,
 "worksheets": [
  {
   "cells": [
    {
     "cell_type": "code",
     "collapsed": false,
     "input": [
      "letters = set()\n",
      "\n",
      "for char in 'masters degree in data analytics':\n",
      "\n",
      "         letters.add(char)\n",
      "\n",
      "print len(letters)"
     ],
     "language": "python",
     "metadata": {},
     "outputs": [
      {
       "output_type": "stream",
       "stream": "stdout",
       "text": [
        "14\n"
       ]
      }
     ],
     "prompt_number": 2
    },
    {
     "cell_type": "code",
     "collapsed": false,
     "input": [
      "nonmembers = set()\n",
      "type(nonmembers)"
     ],
     "language": "python",
     "metadata": {},
     "outputs": [
      {
       "metadata": {},
       "output_type": "pyout",
       "prompt_number": 3,
       "text": [
        "set"
       ]
      }
     ],
     "prompt_number": 3
    },
    {
     "cell_type": "code",
     "collapsed": false,
     "input": [],
     "language": "python",
     "metadata": {},
     "outputs": []
    }
   ],
   "metadata": {}
  }
 ]
}