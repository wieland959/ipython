{
 "metadata": {
  "name": "",
  "signature": "sha256:ee9c77bbf609e41755d74dbf0a55f9e20b803fa3f9b6e8a7c12b90a0db795788"
 },
 "nbformat": 3,
 "nbformat_minor": 0,
 "worksheets": [
  {
   "cells": [
    {
     "cell_type": "code",
     "collapsed": false,
     "input": [
      "import re\n",
      "seed = '1 Germany | W 3 | T 4 | W 2'\n",
      "rank = re.findall('^\\d', seed)\n",
      "print 'Rank:', rank\n",
      "country = re.findall('^\\d (.*?) \\|', seed)\n",
      "print 'Country:', country\n",
      "results = re.findall('[A-Z] \\d', seed)\n",
      "print 'Results:', results\n"
     ],
     "language": "python",
     "metadata": {},
     "outputs": [
      {
       "output_type": "stream",
       "stream": "stdout",
       "text": [
        "Rank: ['1']\n",
        "Country: ['Germany']\n",
        "Results: ['W 3', 'T 4', 'W 2']\n"
       ]
      }
     ],
     "prompt_number": 1
    }
   ],
   "metadata": {}
  }
 ]
}